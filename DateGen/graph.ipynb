{
 "cells": [
  {
   "cell_type": "code",
   "execution_count": 7,
   "metadata": {},
   "outputs": [
    {
     "data": {
      "application/vnd.jupyter.widget-view+json": {
       "model_id": "7c6c22d32daf4e56a4508fe49574eec7",
       "version_major": 2,
       "version_minor": 0
      },
      "text/plain": [
       "VBox(children=(FloatSlider(value=1.0, description='a:', max=10.0), FloatSlider(value=2.0, description='b:', ma…"
      ]
     },
     "metadata": {},
     "output_type": "display_data"
    }
   ],
   "source": [
    "import numpy as np\n",
    "import plotly.graph_objs as go\n",
    "import plotly.io as pio\n",
    "from ipywidgets import FloatSlider, VBox\n",
    "\n",
    "# 定义表达式\n",
    "def expression(x, y, z, a, b, c):\n",
    "    return a * x + b ** y + c ** z\n",
    "\n",
    "# 设置初始参数值\n",
    "a_init = 1\n",
    "b_init = 2\n",
    "c_init = 3\n",
    "x_fixed = 1  # 固定x值\n",
    "\n",
    "# 定义y, z的范围\n",
    "y = np.linspace(1, 10, 100)\n",
    "z = np.linspace(1, 10, 100)\n",
    "Y, Z = np.meshgrid(y, z)\n",
    "\n",
    "# 创建初始图表\n",
    "T = expression(x_fixed, Y, Z, a_init, b_init, c_init)\n",
    "surface = go.Surface(x=Y, y=Z, z=T, colorscale='Viridis')\n",
    "\n",
    "layout = go.Layout(\n",
    "    scene=dict(\n",
    "        xaxis_title='y',\n",
    "        yaxis_title='z',\n",
    "        zaxis_title='t'\n",
    "    ),\n",
    "    width=800,  # 设置图表宽度\n",
    "    height=600  # 设置图表高度\n",
    ")\n",
    "\n",
    "fig = go.FigureWidget(data=[surface], layout=layout)\n",
    "\n",
    "# 创建交互式滑动条\n",
    "a_slider = FloatSlider(value=a_init, min=0, max=10.0, step=0.1, description='a:')\n",
    "b_slider = FloatSlider(value=b_init, min=0, max=10.0, step=0.1, description='b:')\n",
    "c_slider = FloatSlider(value=c_init, min=0, max=10.0, step=0.1, description='c:')\n",
    "\n",
    "# 更新图表函数\n",
    "def update_plot(change):\n",
    "    T = expression(x_fixed, Y, Z, a_slider.value, b_slider.value, c_slider.value)\n",
    "    with fig.batch_update():\n",
    "        fig.data[0].z = T\n",
    "\n",
    "# 为滑动条绑定更新函数\n",
    "a_slider.observe(update_plot, names='value')\n",
    "b_slider.observe(update_plot, names='value')\n",
    "c_slider.observe(update_plot, names='value')\n",
    "\n",
    "# 显示滑动条和图表\n",
    "display(VBox([a_slider, b_slider, c_slider, fig]))\n"
   ]
  }
 ],
 "metadata": {
  "kernelspec": {
   "display_name": "Python 3",
   "language": "python",
   "name": "python3"
  },
  "language_info": {
   "codemirror_mode": {
    "name": "ipython",
    "version": 3
   },
   "file_extension": ".py",
   "mimetype": "text/x-python",
   "name": "python",
   "nbconvert_exporter": "python",
   "pygments_lexer": "ipython3",
   "version": "3.9.13"
  }
 },
 "nbformat": 4,
 "nbformat_minor": 2
}
